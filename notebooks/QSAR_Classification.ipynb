{
 "cells": [
  {
   "cell_type": "code",
   "execution_count": null,
   "id": "f6785342",
   "metadata": {},
   "outputs": [],
   "source": [
    "\n",
    "# Import necessary modules from the src package\n",
    "from src.data_loader import load_data\n",
    "from src.smiles_processing import add_canonical_smiles_column\n",
    "from src.duplicate_handler import find_duplicates, display_duplicates\n"
   ]
  },
  {
   "cell_type": "code",
   "execution_count": null,
   "id": "40b2a520",
   "metadata": {},
   "outputs": [],
   "source": [
    "\n",
    "# Load the molecular data\n",
    "filepath = 'data/NP_004081-0.0.csv'  # Update this path if necessary\n",
    "df = load_data(filepath)\n",
    "df.head()\n"
   ]
  },
  {
   "cell_type": "code",
   "execution_count": null,
   "id": "d53cd471",
   "metadata": {},
   "outputs": [],
   "source": [
    "\n",
    "# Add canonical SMILES representations\n",
    "df = add_canonical_smiles_column(df)\n",
    "df.head()  # Display the first few rows to check the new column\n"
   ]
  },
  {
   "cell_type": "code",
   "execution_count": null,
   "id": "f31e2495",
   "metadata": {},
   "outputs": [],
   "source": [
    "\n",
    "# Identify and display duplicate entries based on Canonical SMILES\n",
    "duplicates_indices = find_duplicates(df)\n",
    "duplicates_df = display_duplicates(df)\n",
    "duplicates_df.head()  # Display a few duplicates if any are found\n"
   ]
  }
 ],
 "metadata": {},
 "nbformat": 4,
 "nbformat_minor": 5
}
